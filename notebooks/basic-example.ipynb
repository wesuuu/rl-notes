{
 "cells": [
  {
   "cell_type": "markdown",
   "metadata": {},
   "source": [
    "# n-armed bandit\n",
    "\n",
    "## Problem definition\n",
    "\n",
    "$n$ possible actions, for this case. $n=10$\n",
    "\n",
    "An action $a$ means pulling an arm of a slot machine\n",
    "\n",
    "$k$ is a play of the game where we can choose to pull a single lever\n",
    "\n",
    "Each lever has a unique probability distribution\n",
    "\n",
    "$Q_k(a)$ is the expected reward given at play $k$\n",
    "\n",
    "$$Q_{k}(a)=\\frac{R_{1}+R_{2}+\\ldots+R_{k}}{k_{a}}$$\n",
    "\n",
    "The reward at play $k$, $Q_{k}(a)$, is given by the sum of the historical rewards up to play $k$ divided by the total number of rewards\n",
    "\n",
    "Problem is considered *stationary*, the underlying probability distributions don't change\n",
    "\n",
    "## Objective\n",
    "\n",
    "Learn which levers yield the highest reward and pull on those\n",
    "\n",
    "\n",
    "## Exploration and exploitation\n",
    "\n",
    "Select the action $a_i$ which maximizes the reward function at play $k$\n",
    "\n",
    "$$a^{*}=\\operatorname{argmax}_{a} Q_{k}\\left(a_{i}\\right)$$\n",
    "\n",
    "To find this best action, iterate through the possible future actions and select the best one"
   ]
  },
  {
   "cell_type": "code",
   "execution_count": 2,
   "metadata": {},
   "outputs": [],
   "source": [
    "import numpy as np\n",
    "from scipy import stats\n",
    "import random\n",
    "import matplotlib.pyplot as plt\n",
    "\n",
    "# define the probabilities of each slow\n",
    "\n",
    "n = 10\n",
    "probs = np.random.rand(n)\n",
    "eps = 0.2"
   ]
  },
  {
   "cell_type": "code",
   "execution_count": 13,
   "metadata": {},
   "outputs": [
    {
     "data": {
      "text/plain": [
       "(array([  2.,  23.,  79., 189.,   0., 394., 537., 471., 247.,  58.]),\n",
       " array([ 2. ,  2.8,  3.6,  4.4,  5.2,  6. ,  6.8,  7.6,  8.4,  9.2, 10. ]),\n",
       " <a list of 10 Patch objects>)"
      ]
     },
     "execution_count": 13,
     "metadata": {},
     "output_type": "execute_result"
    },
    {
     "data": {
      "image/png": "[encoded data removed]",
      "text/plain": [
       "<Figure size 432x288 with 1 Axes>"
      ]
     },
     "metadata": {
      "needs_background": "light"
     },
     "output_type": "display_data"
    }
   ],
   "source": [
    "# Define the reward function for pulling a slot up to n-times\n",
    "\n",
    "def get_reward(prob, n=10):\n",
    "    reward = 0\n",
    "    for i in range(n):\n",
    "        if random.random() < prob:\n",
    "            reward += 1\n",
    "    return reward\n",
    "\n",
    "test_rewards = [get_reward(0.7) for _ in range(2000)]\n",
    "\n",
    "plt.hist(test_rewards)"
   ]
  },
  {
   "cell_type": "markdown",
   "metadata": {},
   "source": [
    "## Define the greedy strategy\n",
    "\n",
    "$$\\mu_{n e w}=\\frac{k \\cdot \\mu_{o l d}+x}{k+1}$$\n",
    "\n",
    "Updating the average return is defined by the previous calculated average multiplied by the play number $k$ plus the new result $x$ divided by the total length $k+1$"
   ]
  },
  {
   "cell_type": "code",
   "execution_count": 16,
   "metadata": {},
   "outputs": [
    {
     "data": {
      "text/plain": [
       "array([[0., 0.],\n",
       "       [0., 0.],\n",
       "       [0., 0.],\n",
       "       [0., 0.],\n",
       "       [0., 0.],\n",
       "       [0., 0.],\n",
       "       [0., 0.],\n",
       "       [0., 0.],\n",
       "       [0., 0.],\n",
       "       [0., 0.]])"
      ]
     },
     "execution_count": 16,
     "metadata": {},
     "output_type": "execute_result"
    }
   ],
   "source": [
    "# Datastructure to store results\n",
    "\n",
    "record = np.zeros((n, 2))\n",
    "\n",
    "# first column = # times each arm has been pulled\n",
    "# second column = # average reward for arm\n",
    "\n",
    "record"
   ]
  },
  {
   "cell_type": "code",
   "execution_count": 19,
   "metadata": {},
   "outputs": [],
   "source": [
    "# function for updating the record\n",
    "\n",
    "def update_record(record, action, r):\n",
    "    new_r = (record[action,0] * record[action,1] + r) / (record[action,0] +     1)\n",
    "    record[action,0] += 1\n",
    "    record[action,1] = new_r\n",
    "    return record\n",
    "\n",
    "# Function for retrieving the best arm\n",
    "\n",
    "def get_best_arm(record):\n",
    "    arm_index = np.argmax(record[:,1], axis=0)\n",
    "    return arm_index"
   ]
  },
  {
   "cell_type": "markdown",
   "metadata": {},
   "source": [
    "## Play the game\n",
    "\n",
    "### Simple strategy\n",
    "\n",
    "During play, you can either: \n",
    "\n",
    "1. Select a random arm and get the reward for it\n",
    "2. Select the best arm and get the reward for it\n",
    "\n",
    "Selection of 1 and 2 happens at a fixed probability $\\epsilon$"
   ]
  },
  {
   "cell_type": "code",
   "execution_count": 21,
   "metadata": {},
   "outputs": [
    {
     "data": {
      "text/plain": [
       "<matplotlib.collections.PathCollection at 0x7f0208485e10>"
      ]
     },
     "execution_count": 21,
     "metadata": {},
     "output_type": "execute_result"
    },
    {
     "data": {
      "image/png": "[encoded data removed]",
      "text/plain": [
       "<Figure size 432x288 with 1 Axes>"
      ]
     },
     "metadata": {
      "needs_background": "light"
     },
     "output_type": "display_data"
    }
   ],
   "source": [
    "fix, ax = plt.subplots(1,1)\n",
    "ax.set_xlabel('Plays')\n",
    "ax.set_ylabel('Avg Reward')\n",
    "\n",
    "rewards = [0]\n",
    "eps = 0.2\n",
    "plays = 500\n",
    "probs = np.random.rand(n)\n",
    "record = np.zeros((n, 2))\n",
    "\n",
    "for i in range(plays):\n",
    "    if random.random() < eps:\n",
    "#         strategy 1\n",
    "        choice = get_best_arm(record)\n",
    "    else:\n",
    "        choice = np.random.randint(10)\n",
    "    \n",
    "    r = get_reward(probs[choice])\n",
    "    record = update_record(record, choice, r)\n",
    "    mean_reward = ((i+1) * rewards[-1] + r) / (i+2)\n",
    "    rewards.append(mean_reward)\n",
    "ax.scatter(np.arange(len(rewards)), rewards)"
   ]
  },
  {
   "cell_type": "markdown",
   "metadata": {},
   "source": [
    "## Using a softmax strategy\n",
    "\n",
    "Use a softmax strategy to select the action that has the highest probability of reward\n",
    "\n",
    "$$\\operatorname{Pr}(A)=\\frac{e^{Q_{k}(A) / \\tau}}{\\sum_{i=1}^{n} e^{Q_{k}(i)/\\tau}}$$\n",
    "\n",
    "$\\operatorname{Pr}(A)$ accepts an array of actions and outputs the probability of reward for each action. All actions sum to 1\n",
    "\n",
    "$\\tau$ is called the *temperature*, it scales the probability distribution of actions. High $\\tau$ causes probabilites to be very similar, low causes exaggerated differences in the probability distributions between actions\n",
    "\n"
   ]
  },
  {
   "cell_type": "code",
   "execution_count": 23,
   "metadata": {},
   "outputs": [
    {
     "data": {
      "text/plain": [
       "<matplotlib.collections.PathCollection at 0x7f0208353e90>"
      ]
     },
     "execution_count": 23,
     "metadata": {},
     "output_type": "execute_result"
    },
    {
     "data": {
      "image/png": "[encoded data removed]",
      "text/plain": [
       "<Figure size 648x360 with 1 Axes>"
      ]
     },
     "metadata": {
      "needs_background": "light"
     },
     "output_type": "display_data"
    }
   ],
   "source": [
    "def softmax(av, tau=1.12):\n",
    "    softm = np.exp(av / tau) / np.sum(np.exp(av/ tau))\n",
    "    return softm\n",
    "\n",
    "n = 10\n",
    "probs = np.random.rand(n)\n",
    "record = np.zeros((n,2))\n",
    "\n",
    "fig, ax = plt.subplots(1,1)\n",
    "ax.set_xlabel('Plays')\n",
    "ax.set_ylabel('Avg reward')\n",
    "fig.set_size_inches(9, 5)\n",
    "rewards = [0]\n",
    "\n",
    "for i in range(500):\n",
    "    p = softmax(record[:,1]) \n",
    "    choice = np.random.choice(np.arange(n), p=p) # select a choice based off the probabilities\n",
    "    r = get_reward(probs[choice])\n",
    "    record = update_record(record, choice, r)\n",
    "    mean_reward = ((i+1) * rewards[-1] + r) / (i+2)\n",
    "    rewards.append(mean_reward)\n",
    "\n",
    "ax.scatter(np.arange(len(rewards)), rewards)"
   ]
  }
 ],
 "metadata": {
  "kernelspec": {
   "display_name": "Python 3",
   "language": "python",
   "name": "python3"
  },
  "language_info": {
   "codemirror_mode": {
    "name": "ipython",
    "version": 3
   },
   "file_extension": ".py",
   "mimetype": "text/x-python",
   "name": "python",
   "nbconvert_exporter": "python",
   "pygments_lexer": "ipython3",
   "version": "3.7.6"
  }
 },
 "nbformat": 4,
 "nbformat_minor": 4
}
